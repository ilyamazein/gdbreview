{
 "cells": [
  {
   "cell_type": "markdown",
   "id": "28e36da4-6237-411c-847f-1cf8faa85ca2",
   "metadata": {
    "editable": true,
    "slideshow": {
     "slide_type": ""
    },
    "tags": []
   },
   "source": [
    "Import pandas and publication metadata fetching function"
   ]
  },
  {
   "cell_type": "code",
   "execution_count": 1,
   "id": "67ff8b79-c3d3-4feb-8823-442e89cc2e85",
   "metadata": {},
   "outputs": [],
   "source": [
    "import pandas as pd\n",
    "from request_functions import pub_met"
   ]
  },
  {
   "cell_type": "markdown",
   "id": "533020b4-b3b3-4874-87b6-66ff3f764d2c",
   "metadata": {},
   "source": [
    "Read queries"
   ]
  },
  {
   "cell_type": "code",
   "execution_count": 2,
   "id": "badb8e0f-620c-44d3-bf0d-896ec2a18c72",
   "metadata": {},
   "outputs": [],
   "source": [
    "q1_txt = open('query_1.txt', 'r')\n",
    "query_1 = q1_txt.read()\n",
    "q1_txt.close()"
   ]
  },
  {
   "cell_type": "code",
   "execution_count": 3,
   "id": "5f0f54ca-8dde-42e2-8ed9-23284f71bc4d",
   "metadata": {},
   "outputs": [],
   "source": [
    "q2_txt = open('query_2.txt', 'r')\n",
    "query_2 = q2_txt.read()\n",
    "q2_txt.close()"
   ]
  },
  {
   "cell_type": "markdown",
   "id": "1dfbc3ff-6b88-4e67-a15a-8075e226ecb7",
   "metadata": {},
   "source": [
    "Call publication metadata fetching function for Pubmed and PMC with cut-off by end of March 2023"
   ]
  },
  {
   "cell_type": "code",
   "execution_count": 4,
   "id": "65d71acd-968e-42f4-8176-3b7f42c4cc52",
   "metadata": {},
   "outputs": [],
   "source": [
    "pmd_df = pub_met(query_1, 'pubmed', '2023/03/31', 100)"
   ]
  },
  {
   "cell_type": "code",
   "execution_count": 5,
   "id": "bd0fc742-a935-40c8-b385-f3d4f86765de",
   "metadata": {},
   "outputs": [],
   "source": [
    "pmc_df = pub_met(query_2, 'pmc', '2023/03/31', 400)"
   ]
  },
  {
   "cell_type": "markdown",
   "id": "6a76bb0e-01e5-4f4c-871e-976235ff10d5",
   "metadata": {},
   "source": [
    "Select relevant columns and define PMC metadata categories so they match the names of corresponding categories in Pubmed <br>\n",
    "When the two dataframes are concatenated, corresponding data types will be in the same columns"
   ]
  },
  {
   "cell_type": "code",
   "execution_count": 6,
   "id": "391ee20f-6638-474d-9305-50809432b7af",
   "metadata": {
    "tags": []
   },
   "outputs": [],
   "source": [
    "relevant_columns = [\n",
    "    'pubdate',\n",
    "    'authors',\n",
    "    'title',\n",
    "    'fulljournalname',\n",
    "    'pubmed',\n",
    "    'doi',\n",
    "    'pmc',\n",
    "]"
   ]
  },
  {
   "cell_type": "code",
   "execution_count": 7,
   "id": "8e82c0d2-af0a-4388-a168-9240cb3866d4",
   "metadata": {},
   "outputs": [],
   "source": [
    "pmd_df = pmd_df[relevant_columns]"
   ]
  },
  {
   "cell_type": "code",
   "execution_count": 8,
   "id": "395c67b1-33ab-4f1e-9432-85c88a380752",
   "metadata": {
    "tags": []
   },
   "outputs": [],
   "source": [
    "pmc_df = pmc_df[relevant_columns[:-3] + ['pmid', 'doi', 'pmcid']]"
   ]
  },
  {
   "cell_type": "code",
   "execution_count": 9,
   "id": "0a72a779-c9c5-4aba-b45c-59f9d8868426",
   "metadata": {
    "tags": []
   },
   "outputs": [],
   "source": [
    "pmc_df.columns = relevant_columns"
   ]
  },
  {
   "cell_type": "markdown",
   "id": "e9fb5d65-de51-47ea-ac99-ddc43b99c164",
   "metadata": {},
   "source": [
    "Save intermediate metadata tables to output folder"
   ]
  },
  {
   "cell_type": "code",
   "execution_count": 10,
   "id": "169022bd-af4b-43b0-869c-bea87c84cc28",
   "metadata": {},
   "outputs": [],
   "source": [
    "pmd_df.to_csv('../output/pmd_result.csv')\n",
    "pmc_df.to_csv('../output/pmc_result.csv')"
   ]
  },
  {
   "cell_type": "markdown",
   "id": "01f4357f-cbfb-4fdc-9de9-02d3a06f9a93",
   "metadata": {},
   "source": [
    "Concatenate the two tables and remove duplicate publications by titles and IDs"
   ]
  },
  {
   "cell_type": "code",
   "execution_count": 11,
   "id": "846433fe-3105-4668-9c2e-a9a1d0dde741",
   "metadata": {},
   "outputs": [],
   "source": [
    "both_df = pd.concat([pmd_df, pmc_df]).reset_index(drop=True)"
   ]
  },
  {
   "cell_type": "code",
   "execution_count": 12,
   "id": "c829e2e0-0273-4fdf-b3d3-67733639a13a",
   "metadata": {},
   "outputs": [],
   "source": [
    "both_df = both_df.fillna('')"
   ]
  },
  {
   "cell_type": "code",
   "execution_count": 13,
   "id": "f40bcb9d-872a-4021-af5b-8bacaa6f5d7a",
   "metadata": {},
   "outputs": [],
   "source": [
    "for i in range(len(both_df)):\n",
    "    for j in ['pubmed', 'pmc', 'doi']:\n",
    "        if both_df.iloc[i][j] == '':\n",
    "            both_df.at[i, j] = 'none_' + str(i)"
   ]
  },
  {
   "cell_type": "code",
   "execution_count": 14,
   "id": "5772e38d-276f-4187-bab1-ffd2f8a52b72",
   "metadata": {},
   "outputs": [],
   "source": [
    "for i in ['title', 'pubmed', 'pmc', 'doi']:\n",
    "    both_df = both_df.drop_duplicates(i)\n",
    "both_df = both_df.reset_index(drop=True)"
   ]
  },
  {
   "cell_type": "code",
   "execution_count": 15,
   "id": "3b1952e9-8b01-4e66-b237-2ab547935ed4",
   "metadata": {},
   "outputs": [],
   "source": [
    "for i in range(len(both_df)):\n",
    "    for j in ['pubmed', 'pmc', 'doi']:\n",
    "        if 'none_' in both_df.iloc[i][j]:\n",
    "            both_df.at[i, j] = ''"
   ]
  },
  {
   "cell_type": "markdown",
   "id": "f8b0dcc3-e85c-451d-bf9e-abf8a56c5b85",
   "metadata": {},
   "source": [
    "Give columns human-readable names"
   ]
  },
  {
   "cell_type": "code",
   "execution_count": 16,
   "id": "f6174295-18c1-4836-9f3c-3286ca94b189",
   "metadata": {},
   "outputs": [],
   "source": [
    "both_df.columns = [\n",
    "    'Date',\n",
    "    'Author',\n",
    "    'Title',\n",
    "    'Publication Title',\n",
    "    'PMID',\n",
    "    'DOI',\n",
    "    'PMCID',\n",
    "]"
   ]
  },
  {
   "cell_type": "markdown",
   "id": "4a24f0ea-011e-44cf-90e6-3dc0636eee72",
   "metadata": {},
   "source": [
    "Create link attachments using available publication IDs <br>\n",
    "Parse publication authors"
   ]
  },
  {
   "cell_type": "code",
   "execution_count": 17,
   "id": "0afca480-f2a5-4aad-bb8b-f6ac230418ac",
   "metadata": {},
   "outputs": [],
   "source": [
    "for i in range(len(both_df)):\n",
    "    if both_df.iloc[i]['PMCID'] != '':\n",
    "        both_df.at[i, 'Link Attachments'] = (\n",
    "            'https://www.ncbi.nlm.nih.gov/pmc/articles/' + both_df.iloc[i]['PMCID']\n",
    "        )\n",
    "    elif both_df.iloc[i]['PMID'] != '':\n",
    "        both_df.at[i, 'Link Attachments'] = (\n",
    "            'https://pubmed.ncbi.nlm.nih.gov/' + both_df.iloc[i]['PMID']\n",
    "        )\n",
    "    else:\n",
    "        both_df.at[i, 'Link Attachments'] = 'https://doi.org/' + both_df.iloc[i]['DOI']\n",
    "\n",
    "    names = []\n",
    "    for j in both_df.iloc[i]['Author']:\n",
    "        names.append(j['name'])\n",
    "    both_df.at[i, 'Author'] = ', '.join(names)"
   ]
  },
  {
   "cell_type": "markdown",
   "id": "97eb041f-281a-478b-a902-2053a5ed389a",
   "metadata": {},
   "source": [
    "Save resulting metadata table to output folder"
   ]
  },
  {
   "cell_type": "code",
   "execution_count": 18,
   "id": "da584582-e2d9-43f6-a619-65aeca8197ba",
   "metadata": {},
   "outputs": [],
   "source": [
    "both_df.to_csv('../output/merged_result.csv')"
   ]
  },
  {
   "cell_type": "code",
   "execution_count": null,
   "id": "e07e140a-d849-4dfe-ae22-fd705575e18c",
   "metadata": {},
   "outputs": [],
   "source": []
  }
 ],
 "metadata": {
  "kernelspec": {
   "display_name": "Python 3 (ipykernel)",
   "language": "python",
   "name": "python3"
  },
  "language_info": {
   "codemirror_mode": {
    "name": "ipython",
    "version": 3
   },
   "file_extension": ".py",
   "mimetype": "text/x-python",
   "name": "python",
   "nbconvert_exporter": "python",
   "pygments_lexer": "ipython3",
   "version": "3.7.2"
  }
 },
 "nbformat": 4,
 "nbformat_minor": 5
}
