{
 "cells": [
  {
   "cell_type": "code",
   "execution_count": 1,
   "metadata": {},
   "outputs": [],
   "source": [
    "import requests\n",
    "import json\n",
    "import pandas as pd"
   ]
  },
  {
   "cell_type": "code",
   "execution_count": 2,
   "metadata": {},
   "outputs": [],
   "source": [
    "query_1='''\n",
    "\"graph database\" OR \"graph databases\" OR Neo4j OR \"Azure Cosmos\" OR ArangoDB OR OrientDB OR (Openlink AND Virtuoso)\n",
    "OR (Ontotext AND GraphDB)  OR JanusGraph  OR \"Amazon Neptune\" OR (Stardog AND \"graph database\") OR TigerGraph\n",
    "OR FaunaDB OR (Fauna AND \"graph database\") OR AllegroGraph  OR (Dgraph AND \"graph database\")\n",
    "OR (Giraph AND \"graph database\") OR \"Nebula Graph\" OR Memgraph\n",
    "'''\n",
    "\n",
    "query_1='+'.join(query_1.split(' '))"
   ]
  },
  {
   "cell_type": "code",
   "execution_count": 3,
   "metadata": {},
   "outputs": [],
   "source": [
    "query_2='''\n",
    "Neo4j OR \"Azure Cosmos\" OR ArangoDB OR OrientDB OR (Openlink AND Virtuoso) OR (Ontotext AND GraphDB) OR JanusGraph\n",
    "OR \"Amazon Neptune\" OR (Stardog AND \"graph database\") OR TigerGraph OR FaunaDB OR (Fauna AND \"graph database\")\n",
    "OR AllegroGraph  OR (Dgraph AND \"graph database\") OR (Giraph AND \"graph database\") OR \"Nebula Graph\" OR Memgraph\n",
    "'''\n",
    "\n",
    "query_2='+'.join(query_2.split(' '))"
   ]
  },
  {
   "cell_type": "code",
   "execution_count": 4,
   "metadata": {},
   "outputs": [],
   "source": [
    "pmd_id_request='https://eutils.ncbi.nlm.nih.gov/entrez/eutils/esearch.fcgi?db=pubmed&retmode=json&retmax=100000&term='\n"
   ]
  },
  {
   "cell_type": "code",
   "execution_count": 5,
   "metadata": {},
   "outputs": [],
   "source": [
    "pmc_id_request='https://eutils.ncbi.nlm.nih.gov/entrez/eutils/esearch.fcgi?db=pmc&retmode=json&retmax=100000&term='\n"
   ]
  },
  {
   "cell_type": "code",
   "execution_count": 6,
   "metadata": {},
   "outputs": [],
   "source": [
    "pmd_id_request+=query_1.strip('\\n')\n",
    "pmd_id_request+='&datetype=pdat&mindate=1000%2F01%2F01&maxdate=2023%2F03%2F31'\n",
    "pmd_id_result=requests.get(pmd_id_request)\n",
    "pmd_id_result_json=json.loads(pmd_id_result.text)"
   ]
  },
  {
   "cell_type": "code",
   "execution_count": 7,
   "metadata": {},
   "outputs": [],
   "source": [
    "pmc_id_request+=query_2.strip('\\n')\n",
    "pmc_id_request+='&datetype=pdat&mindate=1000%2F01%2F01&maxdate=2023%2F03%2F31'\n",
    "pmc_id_result=requests.get(pmc_id_request)\n",
    "pmc_id_result_json=json.loads(pmc_id_result.text)"
   ]
  },
  {
   "cell_type": "code",
   "execution_count": 8,
   "metadata": {},
   "outputs": [],
   "source": [
    "pmd_id_list=pmd_id_result_json['esearchresult']['idlist']"
   ]
  },
  {
   "cell_type": "code",
   "execution_count": 9,
   "metadata": {},
   "outputs": [],
   "source": [
    "pmc_id_list=pmc_id_result_json['esearchresult']['idlist']"
   ]
  },
  {
   "cell_type": "code",
   "execution_count": 10,
   "metadata": {},
   "outputs": [],
   "source": [
    "pmd_data_list=[]\n",
    "iteration=100\n",
    "\n",
    "for i in range(len(pmd_id_list)//iteration):\n",
    "    pmd_data_request='https://eutils.ncbi.nlm.nih.gov/entrez/eutils/esummary.fcgi?db=pubmed&retmode=json&id='\n",
    "    \n",
    "    pmd_ids=','.join(pmd_id_list[i*iteration:(i+1)*iteration])\n",
    "    pmd_data_request+=pmd_ids\n",
    "    pmd_data_result=requests.get(pmd_data_request)\n",
    "    pmd_data_result_json=json.loads(pmd_data_result.text)\n",
    "    \n",
    "    for j in list(pmd_data_result_json['result'].keys())[1:]:\n",
    "    \n",
    "        temp_dict=pmd_data_result_json['result'][j]\n",
    "        \n",
    "        if 'articleids' in temp_dict.keys():\n",
    "            for k in temp_dict['articleids']:\n",
    "\n",
    "                temp_articleid= k['idtype']\n",
    "                temp_articleid_value= k['value']\n",
    "\n",
    "                temp_dict[temp_articleid]=temp_articleid_value\n",
    "\n",
    "            pmd_data_list.append(temp_dict)\n",
    "            \n",
    "pmd_data_request='https://eutils.ncbi.nlm.nih.gov/entrez/eutils/esummary.fcgi?db=pubmed&retmode=json&id='            \n",
    "    \n",
    "pmd_ids=','.join(pmd_id_list[(len(pmd_id_list)//iteration)*iteration:(len(pmd_id_list)//iteration)*iteration+(len(pmd_id_list)%iteration)])\n",
    "pmd_data_request+=pmd_ids\n",
    "pmd_data_result=requests.get(pmd_data_request)\n",
    "pmd_data_result_json=json.loads(pmd_data_result.text)\n",
    "\n",
    "for j in list(pmd_data_result_json['result'].keys())[1:]:\n",
    "\n",
    "    temp_dict=pmd_data_result_json['result'][j]\n",
    "\n",
    "    if 'articleids' in temp_dict.keys():\n",
    "        for k in temp_dict['articleids']:\n",
    "\n",
    "            temp_articleid= k['idtype']\n",
    "            temp_articleid_value= k['value']\n",
    "\n",
    "            temp_dict[temp_articleid]=temp_articleid_value\n",
    "\n",
    "        pmd_data_list.append(temp_dict)"
   ]
  },
  {
   "cell_type": "code",
   "execution_count": 11,
   "metadata": {},
   "outputs": [],
   "source": [
    "pmc_data_list=[]\n",
    "iteration=400\n",
    "\n",
    "for i in range(len(pmc_id_list)//iteration):\n",
    "    pmc_data_request='https://eutils.ncbi.nlm.nih.gov/entrez/eutils/esummary.fcgi?db=pmc&retmode=json&id='\n",
    "    \n",
    "    pmc_ids=','.join(pmc_id_list[i*iteration:(i+1)*iteration])\n",
    "    pmc_data_request+=pmc_ids\n",
    "    pmc_data_result=requests.get(pmc_data_request)\n",
    "    pmc_data_result_json=json.loads(pmc_data_result.text)\n",
    "    \n",
    "    for j in list(pmc_data_result_json['result'].keys())[1:]:\n",
    "    \n",
    "        temp_dict=pmc_data_result_json['result'][j]\n",
    "        \n",
    "        if 'articleids' in temp_dict.keys():\n",
    "            for k in temp_dict['articleids']:\n",
    "\n",
    "                temp_articleid= k['idtype']\n",
    "                temp_articleid_value= k['value']\n",
    "\n",
    "                temp_dict[temp_articleid]=temp_articleid_value\n",
    "\n",
    "            pmc_data_list.append(temp_dict)\n",
    "            \n",
    "pmc_data_request='https://eutils.ncbi.nlm.nih.gov/entrez/eutils/esummary.fcgi?db=pmc&retmode=json&id='            \n",
    "    \n",
    "pmc_ids=','.join(pmc_id_list[(len(pmc_id_list)//iteration)*iteration:(len(pmc_id_list)//iteration)*iteration+(len(pmc_id_list)%iteration)])\n",
    "pmc_data_request+=pmc_ids\n",
    "pmc_data_result=requests.get(pmc_data_request)\n",
    "pmc_data_result_json=json.loads(pmc_data_result.text)\n",
    "\n",
    "for j in list(pmc_data_result_json['result'].keys())[1:]:\n",
    "\n",
    "    temp_dict=pmc_data_result_json['result'][j]\n",
    "\n",
    "    if 'articleids' in temp_dict.keys():\n",
    "        for k in temp_dict['articleids']:\n",
    "\n",
    "            temp_articleid= k['idtype']\n",
    "            temp_articleid_value= k['value']\n",
    "\n",
    "            temp_dict[temp_articleid]=temp_articleid_value\n",
    "\n",
    "        pmc_data_list.append(temp_dict)"
   ]
  },
  {
   "cell_type": "code",
   "execution_count": 12,
   "metadata": {},
   "outputs": [],
   "source": [
    "pmd_df=pd.DataFrame(pmd_data_list)"
   ]
  },
  {
   "cell_type": "code",
   "execution_count": 13,
   "metadata": {},
   "outputs": [],
   "source": [
    "pmc_df=pd.DataFrame(pmc_data_list)"
   ]
  },
  {
   "cell_type": "code",
   "execution_count": 14,
   "metadata": {},
   "outputs": [],
   "source": [
    "pmc_df.columns=['uid', 'pubdate', 'epubdate', 'printpubdate', 'source', 'authors',\n",
    "       'title', 'volume', 'issue', 'pages', 'articleids', 'fulljournalname',\n",
    "       'sortpubdate', 'pmclivedate', 'pubmed', 'doi', 'pmc', 'mid']"
   ]
  },
  {
   "cell_type": "code",
   "execution_count": 15,
   "metadata": {},
   "outputs": [],
   "source": [
    "both_df=pmd_df.append(pmc_df).reset_index(drop=True)"
   ]
  },
  {
   "cell_type": "code",
   "execution_count": 16,
   "metadata": {},
   "outputs": [],
   "source": [
    "both_df=both_df.fillna('')"
   ]
  },
  {
   "cell_type": "code",
   "execution_count": 17,
   "metadata": {},
   "outputs": [],
   "source": [
    "for i in range(len(both_df)):\n",
    "    if both_df.iloc[i]['pubmed']=='':\n",
    "        both_df.at[i, 'pubmed']='both_none_'+str(i)\n",
    "    if both_df.iloc[i]['pmc']=='':\n",
    "        both_df.at[i, 'pmc']='both_none_'+str(i)\n",
    "    if both_df.iloc[i]['doi']=='':\n",
    "        both_df.at[i, 'doi']='both_none_'+str(i)"
   ]
  },
  {
   "cell_type": "code",
   "execution_count": 18,
   "metadata": {},
   "outputs": [],
   "source": [
    "both_df=both_df.drop_duplicates('title')\n",
    "both_df=both_df.drop_duplicates('pubmed')\n",
    "both_df=both_df.drop_duplicates('doi')\n",
    "both_df=both_df.drop_duplicates('pmc')\n",
    "both_df=both_df.reset_index(drop=True)"
   ]
  },
  {
   "cell_type": "code",
   "execution_count": 19,
   "metadata": {},
   "outputs": [],
   "source": [
    "both_df=both_df[['pubdate', 'authors', 'title', 'fulljournalname', 'pubmed', 'doi', 'pmc']]"
   ]
  },
  {
   "cell_type": "code",
   "execution_count": 20,
   "metadata": {},
   "outputs": [],
   "source": [
    "both_df.columns=['Date', 'Author', 'Title', 'Publication Title', 'PMID', 'DOI', 'PMCID']"
   ]
  },
  {
   "cell_type": "code",
   "execution_count": 21,
   "metadata": {},
   "outputs": [],
   "source": [
    "for i in range(len(both_df)):\n",
    "    if both_df.iloc[i]['PMCID']!='':\n",
    "        both_df.at[i, 'Link Attachments']='https://www.ncbi.nlm.nih.gov/pmc/articles/'+both_df.iloc[i]['PMCID']\n",
    "    elif both_df.iloc[i]['PMID']!='':\n",
    "        both_df.at[i, 'Link Attachments']='https://pubmed.ncbi.nlm.nih.gov/'+both_df.iloc[i]['PMID']\n",
    "    else:\n",
    "        both_df.at[i, 'Link Attachments']='https://doi.org/'+both_df.iloc[i]['DOI']\n",
    "        \n",
    "    names=[]\n",
    "    for j in both_df.iloc[i]['Author']:\n",
    "        names.append(j['name'])\n",
    "    both_df.at[i, 'Author']=', '.join(names)"
   ]
  },
  {
   "cell_type": "code",
   "execution_count": 22,
   "metadata": {},
   "outputs": [],
   "source": [
    "pmd_df.to_csv('../output/pmd_result.csv')\n",
    "pmc_df.to_csv('../output/pmc_result.csv')\n",
    "both_df.to_csv('../output/merged_result.csv')"
   ]
  },
  {
   "cell_type": "code",
   "execution_count": null,
   "metadata": {},
   "outputs": [],
   "source": []
  },
  {
   "cell_type": "code",
   "execution_count": null,
   "metadata": {},
   "outputs": [],
   "source": []
  },
  {
   "cell_type": "code",
   "execution_count": null,
   "metadata": {},
   "outputs": [],
   "source": []
  }
 ],
 "metadata": {
  "kernelspec": {
   "display_name": "Python 3",
   "language": "python",
   "name": "python3"
  },
  "language_info": {
   "codemirror_mode": {
    "name": "ipython",
    "version": 3
   },
   "file_extension": ".py",
   "mimetype": "text/x-python",
   "name": "python",
   "nbconvert_exporter": "python",
   "pygments_lexer": "ipython3",
   "version": "3.8.3"
  }
 },
 "nbformat": 4,
 "nbformat_minor": 4
}
