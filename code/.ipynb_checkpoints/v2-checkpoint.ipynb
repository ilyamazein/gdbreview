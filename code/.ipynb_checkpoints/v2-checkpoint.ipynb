{
 "cells": [
  {
   "cell_type": "code",
   "execution_count": 5,
   "id": "e86fbc5a-e45e-45bd-89fa-42894962e262",
   "metadata": {},
   "outputs": [],
   "source": [
    "import requests\n",
    "import json\n",
    "import pandas as pd\n",
    "from request_functions import pub_met"
   ]
  },
  {
   "cell_type": "code",
   "execution_count": 6,
   "id": "badb8e0f-620c-44d3-bf0d-896ec2a18c72",
   "metadata": {},
   "outputs": [],
   "source": [
    "query_1='''\n",
    "\"graph database\" OR \"graph databases\" OR Neo4j OR \"Azure Cosmos\" OR ArangoDB OR OrientDB OR (Openlink AND Virtuoso)\n",
    "OR (Ontotext AND GraphDB)  OR JanusGraph  OR \"Amazon Neptune\" OR (Stardog AND \"graph database\") OR TigerGraph\n",
    "OR FaunaDB OR (Fauna AND \"graph database\") OR AllegroGraph  OR (Dgraph AND \"graph database\")\n",
    "OR (Giraph AND \"graph database\") OR \"Nebula Graph\" OR Memgraph\n",
    "'''"
   ]
  },
  {
   "cell_type": "code",
   "execution_count": 7,
   "id": "5f0f54ca-8dde-42e2-8ed9-23284f71bc4d",
   "metadata": {},
   "outputs": [],
   "source": [
    "query_2='''\n",
    "Neo4j OR \"Azure Cosmos\" OR ArangoDB OR OrientDB OR (Openlink AND Virtuoso) OR (Ontotext AND GraphDB) OR JanusGraph\n",
    "OR \"Amazon Neptune\" OR (Stardog AND \"graph database\") OR TigerGraph OR FaunaDB OR (Fauna AND \"graph database\")\n",
    "OR AllegroGraph  OR (Dgraph AND \"graph database\") OR (Giraph AND \"graph database\") OR \"Nebula Graph\" OR Memgraph\n",
    "'''"
   ]
  },
  {
   "cell_type": "code",
   "execution_count": 8,
   "id": "65d71acd-968e-42f4-8176-3b7f42c4cc52",
   "metadata": {},
   "outputs": [],
   "source": [
    "pmd_df=pub_met(query_1, 'pubmed', '2023/03/31', 100)"
   ]
  },
  {
   "cell_type": "code",
   "execution_count": 9,
   "id": "bd0fc742-a935-40c8-b385-f3d4f86765de",
   "metadata": {},
   "outputs": [],
   "source": [
    "pmc_df=pub_met(query_2, 'pmc', '2023/03/31', 400)"
   ]
  },
  {
   "cell_type": "code",
   "execution_count": 12,
   "id": "d90ddbb3-19f6-427f-885e-e16a78e35fc9",
   "metadata": {},
   "outputs": [],
   "source": [
    "pmc_df.columns=['uid', 'pubdate', 'epubdate', 'printpubdate', 'source', 'authors',\n",
    "       'title', 'volume', 'issue', 'pages', 'articleids', 'fulljournalname',\n",
    "       'sortpubdate', 'pmclivedate', 'pubmed', 'doi', 'pmc', 'mid']"
   ]
  },
  {
   "cell_type": "code",
   "execution_count": 13,
   "id": "169022bd-af4b-43b0-869c-bea87c84cc28",
   "metadata": {},
   "outputs": [],
   "source": [
    "pmd_df.to_csv('../output/pmd_result_1.csv')\n",
    "pmc_df.to_csv('../output/pmc_result_1.csv')"
   ]
  },
  {
   "cell_type": "code",
   "execution_count": 14,
   "id": "846433fe-3105-4668-9c2e-a9a1d0dde741",
   "metadata": {},
   "outputs": [],
   "source": [
    "both_df=pmd_df.append(pmc_df).reset_index(drop=True)"
   ]
  },
  {
   "cell_type": "code",
   "execution_count": 15,
   "id": "c829e2e0-0273-4fdf-b3d3-67733639a13a",
   "metadata": {},
   "outputs": [],
   "source": [
    "both_df=both_df.fillna('')"
   ]
  },
  {
   "cell_type": "code",
   "execution_count": 16,
   "id": "f40bcb9d-872a-4021-af5b-8bacaa6f5d7a",
   "metadata": {},
   "outputs": [],
   "source": [
    "for i in range(len(both_df)):\n",
    "    if both_df.iloc[i]['pubmed']=='':\n",
    "        both_df.at[i, 'pubmed']='both_none_'+str(i)\n",
    "    if both_df.iloc[i]['pmc']=='':\n",
    "        both_df.at[i, 'pmc']='both_none_'+str(i)\n",
    "    if both_df.iloc[i]['doi']=='':\n",
    "        both_df.at[i, 'doi']='both_none_'+str(i)"
   ]
  },
  {
   "cell_type": "code",
   "execution_count": 17,
   "id": "5772e38d-276f-4187-bab1-ffd2f8a52b72",
   "metadata": {},
   "outputs": [],
   "source": [
    "both_df=both_df.drop_duplicates('title')\n",
    "both_df=both_df.drop_duplicates('pubmed')\n",
    "both_df=both_df.drop_duplicates('doi')\n",
    "both_df=both_df.drop_duplicates('pmc')\n",
    "both_df=both_df.reset_index(drop=True)"
   ]
  },
  {
   "cell_type": "code",
   "execution_count": 18,
   "id": "14a269c4-cda6-4e3a-b1a3-cd0625b21668",
   "metadata": {},
   "outputs": [],
   "source": [
    "both_df=both_df[['pubdate', 'authors', 'title', 'fulljournalname', 'pubmed', 'doi', 'pmc']]"
   ]
  },
  {
   "cell_type": "code",
   "execution_count": 19,
   "id": "f6174295-18c1-4836-9f3c-3286ca94b189",
   "metadata": {},
   "outputs": [],
   "source": [
    "both_df.columns=['Date', 'Author', 'Title', 'Publication Title', 'PMID', 'DOI', 'PMCID']"
   ]
  },
  {
   "cell_type": "code",
   "execution_count": 20,
   "id": "0afca480-f2a5-4aad-bb8b-f6ac230418ac",
   "metadata": {},
   "outputs": [],
   "source": [
    "for i in range(len(both_df)):\n",
    "    if both_df.iloc[i]['PMCID']!='':\n",
    "        both_df.at[i, 'Link Attachments']='https://www.ncbi.nlm.nih.gov/pmc/articles/'+both_df.iloc[i]['PMCID']\n",
    "    elif both_df.iloc[i]['PMID']!='':\n",
    "        both_df.at[i, 'Link Attachments']='https://pubmed.ncbi.nlm.nih.gov/'+both_df.iloc[i]['PMID']\n",
    "    else:\n",
    "        both_df.at[i, 'Link Attachments']='https://doi.org/'+both_df.iloc[i]['DOI']\n",
    "        \n",
    "    names=[]\n",
    "    for j in both_df.iloc[i]['Author']:\n",
    "        names.append(j['name'])\n",
    "    both_df.at[i, 'Author']=', '.join(names)"
   ]
  },
  {
   "cell_type": "code",
   "execution_count": 21,
   "id": "da584582-e2d9-43f6-a619-65aeca8197ba",
   "metadata": {},
   "outputs": [],
   "source": [
    "both_df.to_csv('../output/merged_result_1.csv')"
   ]
  },
  {
   "cell_type": "code",
   "execution_count": null,
   "id": "c89f2812-2408-419f-8361-cd7ef84bb1e9",
   "metadata": {},
   "outputs": [],
   "source": []
  }
 ],
 "metadata": {
  "kernelspec": {
   "display_name": "Python 3",
   "language": "python",
   "name": "python3"
  },
  "language_info": {
   "codemirror_mode": {
    "name": "ipython",
    "version": 3
   },
   "file_extension": ".py",
   "mimetype": "text/x-python",
   "name": "python",
   "nbconvert_exporter": "python",
   "pygments_lexer": "ipython3",
   "version": "3.8.3"
  }
 },
 "nbformat": 4,
 "nbformat_minor": 5
}
